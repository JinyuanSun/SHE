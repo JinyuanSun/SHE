{
 "cells": [
  {
   "cell_type": "code",
   "execution_count": 1,
   "metadata": {},
   "outputs": [],
   "source": [
    "#import AAdata\n",
    "import AAcalculator\n",
    "import numpy as np\n",
    "from time import time"
   ]
  },
  {
   "cell_type": "code",
   "execution_count": 21,
   "metadata": {},
   "outputs": [],
   "source": [
    "AAdata =  AAdata.AAdata\n",
    "\n",
    "#SER = AAcalculator.SER()"
   ]
  },
  {
   "cell_type": "code",
   "execution_count": 2,
   "metadata": {},
   "outputs": [
    {
     "name": "stdout",
     "output_type": "stream",
     "text": [
      "{'OG': array([-11.0606177 ,  19.34504919,   5.19418963])}\n"
     ]
    }
   ],
   "source": [
    "N   =     np.array([-10.115,22.547,3.595])\n",
    "CA  =     np.array([-10.953,21.590,4.295])\n",
    "CB  =     np.array([-10.238,20.259,4.490])\n",
    "t0 = time()\n",
    "for chi1 in AAcalculator.SERCHI:\n",
    "    ser = AAcalculator.SER(N, CA, CB, chi1)\n",
    "print(ser)"
   ]
  },
  {
   "cell_type": "code",
   "execution_count": null,
   "metadata": {},
   "outputs": [],
   "source": [
    "AAcalculator.rotamer2pdb"
   ]
  },
  {
   "cell_type": "code",
   "execution_count": 10,
   "metadata": {},
   "outputs": [],
   "source": [
    "ser_rotamer_lib = {}\n",
    "s = open(\"ser_sorted.lib\")\n",
    "for line in s:\n",
    "    lst = line.strip().split(\",\")\n",
    "    phi = lst[0]\n",
    "    psi = lst[1]\n",
    "    chi1 = lst[2]\n",
    "    delta1 = lst[3]\n",
    "    try:\n",
    "        ser_rotamer_lib[phi][psi] = [(chi1,delta1)]\n",
    "    except KeyError:\n",
    "        ser_rotamer_lib[phi] = {psi:[(chi1,delta1)]}"
   ]
  },
  {
   "cell_type": "code",
   "execution_count": 11,
   "metadata": {},
   "outputs": [],
   "source": [
    "#ser_rotamer_lib"
   ]
  },
  {
   "cell_type": "code",
   "execution_count": 36,
   "metadata": {},
   "outputs": [],
   "source": [
    "his_rotamer_lib = {}\n",
    "h = open(\"his_sorted.lib\")\n",
    "for line in h:\n",
    "    lst = line.strip().split(\",\")\n",
    "    phi = lst[0]\n",
    "    psi = lst[1]\n",
    "    chi1 = lst[2]\n",
    "    delta1 = lst[3]\n",
    "    try:\n",
    "        his_rotamer_lib[phi][psi].append([(chi1,delta1)])\n",
    "    except KeyError:\n",
    "        try:\n",
    "            his_rotamer_lib[phi][psi] = [[(chi1,delta1)]]\n",
    "        except KeyError:\n",
    "            his_rotamer_lib[phi] = {psi:[[(chi1,delta1)]]}\n",
    "        "
   ]
  },
  {
   "cell_type": "code",
   "execution_count": 33,
   "metadata": {},
   "outputs": [],
   "source": [
    "glu_rotamer_lib = {}\n",
    "h = open(\"glu_sorted.lib\")\n",
    "for line in h:\n",
    "    lst = line.strip().split(\",\")\n",
    "    phi = lst[0]\n",
    "    psi = lst[1]\n",
    "    chi1 = lst[2]\n",
    "    delta1 = lst[3]\n",
    "    chi2 = lst[4]\n",
    "    delta2 = lst[5]\n",
    "    try:\n",
    "        glu_rotamer_lib[phi][psi].append([(chi1,delta1),(chi2,delta2)])\n",
    "    except KeyError:\n",
    "        #glu_rotamer_lib[phi] = {}\n",
    "        try:\n",
    "            glu_rotamer_lib[phi][psi] = [[(chi1,delta1),(chi2,delta2)]]\n",
    "        except KeyError:\n",
    "            glu_rotamer_lib[phi] = {psi:[[(chi1,delta1),(chi2,delta2)]]}"
   ]
  },
  {
   "cell_type": "code",
   "execution_count": null,
   "metadata": {},
   "outputs": [],
   "source": [
    "try:\n",
    "\n",
    "                    pdbdict[chainid][resseq][atom] = np.array([x,y,z])\n",
    "                except KeyError:\n",
    "                    try:\n",
    "                        pdbdict[chainid][resseq] = {}\n",
    "                        pdbdict[chainid][resseq][\"res\"] = res\n",
    "                        pdbdict[chainid][resseq][atom] = np.array([x,y,z])\n",
    "                    except KeyError:\n",
    "                        pdbdict[chainid] = {resseq:{atom:np.array([x,y,z])}}"
   ]
  },
  {
   "cell_type": "code",
   "execution_count": 37,
   "metadata": {},
   "outputs": [
    {
     "data": {
      "text/plain": [
       "[[('-176.0', '10.1')], [('-69.1', '9.5')], [('65.5', '10.2')]]"
      ]
     },
     "execution_count": 37,
     "metadata": {},
     "output_type": "execute_result"
    }
   ],
   "source": [
    "his_rotamer_lib[\"-20\"][\"-20\"]"
   ]
  },
  {
   "cell_type": "code",
   "execution_count": 35,
   "metadata": {},
   "outputs": [
    {
     "data": {
      "text/plain": [
       "[[('-170.5', '10.9'), ('-83.3', '9.3')],\n",
       " [('-176.8', '9.6'), ('177.4', '11.3')],\n",
       " [('-177.7', '10.9'), ('65.6', '10.7')],\n",
       " [('-65.1', '8.6'), ('-65.1', '11.3')],\n",
       " [('-65.9', '9.8'), ('82.0', '10.6')],\n",
       " [('-66.1', '8.0'), ('179.7', '11.7')],\n",
       " [('59.5', '12.5'), ('85.0', '12.3')],\n",
       " [('64.9', '10.3'), ('-178.1', '11.3')],\n",
       " [('66.6', '11.7'), ('-84.2', '9.7')]]"
      ]
     },
     "execution_count": 35,
     "metadata": {},
     "output_type": "execute_result"
    }
   ],
   "source": [
    "glu_rotamer_lib[\"90\"][\"-20\"]"
   ]
  },
  {
   "cell_type": "code",
   "execution_count": 42,
   "metadata": {},
   "outputs": [
    {
     "data": {
      "text/plain": [
       "[[('-170.5', '10.9'), ('-83.3', '9.3')],\n",
       " [('-176.8', '9.6'), ('177.4', '11.3')],\n",
       " [('-177.7', '10.9'), ('65.6', '10.7')],\n",
       " [('-65.1', '8.6'), ('-65.1', '11.3')],\n",
       " [('-65.9', '9.8'), ('82.0', '10.6')],\n",
       " [('-66.1', '8.0'), ('179.7', '11.7')],\n",
       " [('59.5', '12.5'), ('85.0', '12.3')],\n",
       " [('64.9', '10.3'), ('-178.1', '11.3')],\n",
       " [('66.6', '11.7'), ('-84.2', '9.7')]]"
      ]
     },
     "execution_count": 42,
     "metadata": {},
     "output_type": "execute_result"
    }
   ],
   "source": [
    "glu_rotamer_lib[\"90\"][\"-20\"]"
   ]
  },
  {
   "cell_type": "code",
   "execution_count": 49,
   "metadata": {},
   "outputs": [
    {
     "name": "stdout",
     "output_type": "stream",
     "text": [
      "[-181.4, -92.6]\n",
      "[-181.4, -83.3]\n",
      "[-181.4, -74.0]\n",
      "[-170.5, -92.6]\n",
      "[-170.5, -83.3]\n",
      "[-170.5, -74.0]\n",
      "[-159.6, -92.6]\n",
      "[-159.6, -83.3]\n",
      "[-159.6, -74.0]\n",
      "[-186.4, 166.1]\n",
      "[-186.4, 177.4]\n",
      "[-186.4, 188.70000000000002]\n",
      "[-176.8, 166.1]\n",
      "[-176.8, 177.4]\n",
      "[-176.8, 188.70000000000002]\n",
      "[-167.20000000000002, 166.1]\n",
      "[-167.20000000000002, 177.4]\n",
      "[-167.20000000000002, 188.70000000000002]\n",
      "[-188.6, 54.89999999999999]\n",
      "[-188.6, 65.6]\n",
      "[-188.6, 76.3]\n",
      "[-177.7, 54.89999999999999]\n",
      "[-177.7, 65.6]\n",
      "[-177.7, 76.3]\n",
      "[-166.79999999999998, 54.89999999999999]\n",
      "[-166.79999999999998, 65.6]\n",
      "[-166.79999999999998, 76.3]\n",
      "[-73.69999999999999, -76.39999999999999]\n",
      "[-73.69999999999999, -65.1]\n",
      "[-73.69999999999999, -53.8]\n",
      "[-65.1, -76.39999999999999]\n",
      "[-65.1, -65.1]\n",
      "[-65.1, -53.8]\n",
      "[-56.49999999999999, -76.39999999999999]\n",
      "[-56.49999999999999, -65.1]\n",
      "[-56.49999999999999, -53.8]\n",
      "[-75.7, 71.4]\n",
      "[-75.7, 82.0]\n",
      "[-75.7, 92.6]\n",
      "[-65.9, 71.4]\n",
      "[-65.9, 82.0]\n",
      "[-65.9, 92.6]\n",
      "[-56.10000000000001, 71.4]\n",
      "[-56.10000000000001, 82.0]\n",
      "[-56.10000000000001, 92.6]\n",
      "[-74.1, 168.0]\n",
      "[-74.1, 179.7]\n",
      "[-74.1, 191.39999999999998]\n",
      "[-66.1, 168.0]\n",
      "[-66.1, 179.7]\n",
      "[-66.1, 191.39999999999998]\n",
      "[-58.099999999999994, 168.0]\n",
      "[-58.099999999999994, 179.7]\n",
      "[-58.099999999999994, 191.39999999999998]\n",
      "[47.0, 72.7]\n",
      "[47.0, 85.0]\n",
      "[47.0, 97.3]\n",
      "[59.5, 72.7]\n",
      "[59.5, 85.0]\n",
      "[59.5, 97.3]\n",
      "[72.0, 72.7]\n",
      "[72.0, 85.0]\n",
      "[72.0, 97.3]\n",
      "[54.60000000000001, -189.4]\n",
      "[54.60000000000001, -178.1]\n",
      "[54.60000000000001, -166.79999999999998]\n",
      "[64.9, -189.4]\n",
      "[64.9, -178.1]\n",
      "[64.9, -166.79999999999998]\n",
      "[75.2, -189.4]\n",
      "[75.2, -178.1]\n",
      "[75.2, -166.79999999999998]\n",
      "[54.89999999999999, -93.9]\n",
      "[54.89999999999999, -84.2]\n",
      "[54.89999999999999, -74.5]\n",
      "[66.6, -93.9]\n",
      "[66.6, -84.2]\n",
      "[66.6, -74.5]\n",
      "[78.3, -93.9]\n",
      "[78.3, -84.2]\n",
      "[78.3, -74.5]\n"
     ]
    }
   ],
   "source": [
    "rotamer_final_dict = {(90,-20):[]}\n",
    "for rotamers in glu_rotamer_lib[\"90\"][\"-20\"]:\n",
    "    rotamer_final_dict[(90,-20)].append(\n",
    "    [[float(rotamers[0][0])-float(rotamers[0][1]),float(rotamers[1][0])-float(rotamers[1][1])],\n",
    "    [float(rotamers[0][0])-float(rotamers[0][1]),float(rotamers[1][0])],\n",
    "    [float(rotamers[0][0])-float(rotamers[0][1]),float(rotamers[1][0])+float(rotamers[1][1])],\n",
    "    [float(rotamers[0][0]),float(rotamers[1][0])-float(rotamers[1][1])],\n",
    "    [float(rotamers[0][0]),float(rotamers[1][0])],\n",
    "    [float(rotamers[0][0]),float(rotamers[1][0])+float(rotamers[1][1])],\n",
    "    [float(rotamers[0][0])+float(rotamers[0][1]),float(rotamers[1][0])-float(rotamers[1][1])],\n",
    "    [float(rotamers[0][0])+float(rotamers[0][1]),float(rotamers[1][0])],\n",
    "    [float(rotamers[0][0])+float(rotamers[0][1]),float(rotamers[1][0])+float(rotamers[1][1])]]\n",
    "    )\n",
    "    \n",
    "    print([float(rotamers[0][0])-float(rotamers[0][1]),float(rotamers[1][0])-float(rotamers[1][1])])\n",
    "    print([float(rotamers[0][0])-float(rotamers[0][1]),float(rotamers[1][0])])\n",
    "    print([float(rotamers[0][0])-float(rotamers[0][1]),float(rotamers[1][0])+float(rotamers[1][1])])\n",
    "    \n",
    "    print([float(rotamers[0][0]),float(rotamers[1][0])-float(rotamers[1][1])])\n",
    "    print([float(rotamers[0][0]),float(rotamers[1][0])])\n",
    "    print([float(rotamers[0][0]),float(rotamers[1][0])+float(rotamers[1][1])])\n",
    "    \n",
    "    print([float(rotamers[0][0])+float(rotamers[0][1]),float(rotamers[1][0])-float(rotamers[1][1])])\n",
    "    print([float(rotamers[0][0])+float(rotamers[0][1]),float(rotamers[1][0])])\n",
    "    print([float(rotamers[0][0])+float(rotamers[0][1]),float(rotamers[1][0])+float(rotamers[1][1])])\n"
   ]
  },
  {
   "cell_type": "code",
   "execution_count": 50,
   "metadata": {},
   "outputs": [
    {
     "data": {
      "text/plain": [
       "{(90,\n",
       "  -20): [[[-181.4, -92.6],\n",
       "   [-181.4, -83.3],\n",
       "   [-181.4, -74.0],\n",
       "   [-170.5, -92.6],\n",
       "   [-170.5, -83.3],\n",
       "   [-170.5, -74.0],\n",
       "   [-159.6, -92.6],\n",
       "   [-159.6, -83.3],\n",
       "   [-159.6, -74.0]], [[-186.4, 166.1],\n",
       "   [-186.4, 177.4],\n",
       "   [-186.4, 188.70000000000002],\n",
       "   [-176.8, 166.1],\n",
       "   [-176.8, 177.4],\n",
       "   [-176.8, 188.70000000000002],\n",
       "   [-167.20000000000002, 166.1],\n",
       "   [-167.20000000000002, 177.4],\n",
       "   [-167.20000000000002, 188.70000000000002]], [[-188.6, 54.89999999999999],\n",
       "   [-188.6, 65.6],\n",
       "   [-188.6, 76.3],\n",
       "   [-177.7, 54.89999999999999],\n",
       "   [-177.7, 65.6],\n",
       "   [-177.7, 76.3],\n",
       "   [-166.79999999999998, 54.89999999999999],\n",
       "   [-166.79999999999998, 65.6],\n",
       "   [-166.79999999999998, 76.3]], [[-73.69999999999999, -76.39999999999999],\n",
       "   [-73.69999999999999, -65.1],\n",
       "   [-73.69999999999999, -53.8],\n",
       "   [-65.1, -76.39999999999999],\n",
       "   [-65.1, -65.1],\n",
       "   [-65.1, -53.8],\n",
       "   [-56.49999999999999, -76.39999999999999],\n",
       "   [-56.49999999999999, -65.1],\n",
       "   [-56.49999999999999, -53.8]], [[-75.7, 71.4],\n",
       "   [-75.7, 82.0],\n",
       "   [-75.7, 92.6],\n",
       "   [-65.9, 71.4],\n",
       "   [-65.9, 82.0],\n",
       "   [-65.9, 92.6],\n",
       "   [-56.10000000000001, 71.4],\n",
       "   [-56.10000000000001, 82.0],\n",
       "   [-56.10000000000001, 92.6]], [[-74.1, 168.0],\n",
       "   [-74.1, 179.7],\n",
       "   [-74.1, 191.39999999999998],\n",
       "   [-66.1, 168.0],\n",
       "   [-66.1, 179.7],\n",
       "   [-66.1, 191.39999999999998],\n",
       "   [-58.099999999999994, 168.0],\n",
       "   [-58.099999999999994, 179.7],\n",
       "   [-58.099999999999994, 191.39999999999998]], [[47.0, 72.7],\n",
       "   [47.0, 85.0],\n",
       "   [47.0, 97.3],\n",
       "   [59.5, 72.7],\n",
       "   [59.5, 85.0],\n",
       "   [59.5, 97.3],\n",
       "   [72.0, 72.7],\n",
       "   [72.0, 85.0],\n",
       "   [72.0, 97.3]], [[54.60000000000001, -189.4],\n",
       "   [54.60000000000001, -178.1],\n",
       "   [54.60000000000001, -166.79999999999998],\n",
       "   [64.9, -189.4],\n",
       "   [64.9, -178.1],\n",
       "   [64.9, -166.79999999999998],\n",
       "   [75.2, -189.4],\n",
       "   [75.2, -178.1],\n",
       "   [75.2, -166.79999999999998]], [[54.89999999999999, -93.9],\n",
       "   [54.89999999999999, -84.2],\n",
       "   [54.89999999999999, -74.5],\n",
       "   [66.6, -93.9],\n",
       "   [66.6, -84.2],\n",
       "   [66.6, -74.5],\n",
       "   [78.3, -93.9],\n",
       "   [78.3, -84.2],\n",
       "   [78.3, -74.5]]]}"
      ]
     },
     "execution_count": 50,
     "metadata": {},
     "output_type": "execute_result"
    }
   ],
   "source": [
    "rotamer_final_dict"
   ]
  },
  {
   "cell_type": "code",
   "execution_count": null,
   "metadata": {},
   "outputs": [],
   "source": []
  }
 ],
 "metadata": {
  "kernelspec": {
   "display_name": "Python 3",
   "language": "python",
   "name": "python3"
  },
  "language_info": {
   "codemirror_mode": {
    "name": "ipython",
    "version": 3
   },
   "file_extension": ".py",
   "mimetype": "text/x-python",
   "name": "python",
   "nbconvert_exporter": "python",
   "pygments_lexer": "ipython3",
   "version": "3.7.4"
  }
 },
 "nbformat": 4,
 "nbformat_minor": 4
}
